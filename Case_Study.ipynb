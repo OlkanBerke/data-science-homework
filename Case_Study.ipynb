{
 "cells": [
  {
   "cell_type": "markdown",
   "metadata": {},
   "source": [
    "# Case Study"
   ]
  },
  {
   "cell_type": "markdown",
   "metadata": {},
   "source": [
    "### Introduction\n",
    "\n",
    "A mobile shopping platform is one of the best practices of creating a new business model based on big data and CRM technologies. This platform knows customers' preferences, shopping habits, even the number of children they have, the town their parents live, the activities they do in leisure times etc. This enables the platform to offer a personalized experience with customized campaigns designed for identified micro and macro segments based on customers' lifestyle and preferences through their transactions, without asking any questions. <br/>\n",
    "\n",
    "Data science is the heart of this platform to enhance a rich and customized reach to its each customer. Mass amount of data is collected from online and offline sources about each customer and data science team works on utilizing this data in an insightful manner to be used in identifying shopping behaviors, motivations and needs of each customer on the path of acquisition, retention and growth models. <br/>\n",
    "\n",
    "\n",
    "We prepared this notebook to test the knowledge of our fellow candidates. Good luck to all of you !!"
   ]
  },
  {
   "cell_type": "markdown",
   "metadata": {},
   "source": [
    "|   cid |   month |   spending |   transaction |\n",
    "|------:|--------:|-----------:|--------------:|\n",
    "|     1 |       3 |      52.57 |            27 |\n",
    "|     1 |       4 |      76.98 |            24 |\n",
    "|     1 |       7 |      66.42 |            26 |\n",
    "|     1 |       8 |      54.54 |            26 |\n",
    "|     1 |       9 |     128.21 |            27 |"
   ]
  },
  {
   "cell_type": "markdown",
   "metadata": {},
   "source": [
    "This is a sample transaction data of our customers:\n",
    "\n",
    "- **cid**: Customer Id column represents the unique id assigned to each customer\n",
    "- **month**: Month column represents the month of the transactions\n",
    "- **spending**: Spending column represents the total paid amount within the month\n",
    "- **transaction**: Transaction column represents the total number of transactions within the month\n",
    "\n",
    "**Feel free to add as many cell you need while solving the question and add comments explaining your answer.**"
   ]
  },
  {
   "cell_type": "markdown",
   "metadata": {},
   "source": [
    "## Question 1"
   ]
  },
  {
   "cell_type": "markdown",
   "metadata": {},
   "source": [
    "#### Data importing & wrangling\n",
    "1. Import the necessary packages and functions.\n",
    "2. Read the csv data.\n",
    "3. Write some code to explore the dataset. (row numbers, data types, etc.)\n",
    "4. Assess data visually as well as programmatically using pandas for quality and tidiness issues. "
   ]
  },
  {
   "cell_type": "code",
   "execution_count": 33,
   "metadata": {},
   "outputs": [],
   "source": [
    "# 1.Import all packages needed\n",
    "import numpy as np\n",
    "import pandas as pd\n",
    "import matplotlib.pyplot as plt"
   ]
  },
  {
   "cell_type": "code",
   "execution_count": 47,
   "metadata": {},
   "outputs": [
    {
     "data": {
      "text/html": [
       "<div>\n",
       "<style scoped>\n",
       "    .dataframe tbody tr th:only-of-type {\n",
       "        vertical-align: middle;\n",
       "    }\n",
       "\n",
       "    .dataframe tbody tr th {\n",
       "        vertical-align: top;\n",
       "    }\n",
       "\n",
       "    .dataframe thead th {\n",
       "        text-align: right;\n",
       "    }\n",
       "</style>\n",
       "<table border=\"1\" class=\"dataframe\">\n",
       "  <thead>\n",
       "    <tr style=\"text-align: right;\">\n",
       "      <th></th>\n",
       "      <th>cid</th>\n",
       "      <th>month</th>\n",
       "      <th>spending</th>\n",
       "      <th>transaction</th>\n",
       "    </tr>\n",
       "  </thead>\n",
       "  <tbody>\n",
       "    <tr>\n",
       "      <th>0</th>\n",
       "      <td>1</td>\n",
       "      <td>3</td>\n",
       "      <td>52.57</td>\n",
       "      <td>27</td>\n",
       "    </tr>\n",
       "    <tr>\n",
       "      <th>1</th>\n",
       "      <td>1</td>\n",
       "      <td>4</td>\n",
       "      <td>76.98</td>\n",
       "      <td>24</td>\n",
       "    </tr>\n",
       "    <tr>\n",
       "      <th>2</th>\n",
       "      <td>1</td>\n",
       "      <td>7</td>\n",
       "      <td>66.42</td>\n",
       "      <td>26</td>\n",
       "    </tr>\n",
       "    <tr>\n",
       "      <th>3</th>\n",
       "      <td>1</td>\n",
       "      <td>8</td>\n",
       "      <td>54.54</td>\n",
       "      <td>26</td>\n",
       "    </tr>\n",
       "    <tr>\n",
       "      <th>4</th>\n",
       "      <td>1</td>\n",
       "      <td>9</td>\n",
       "      <td>128.21</td>\n",
       "      <td>27</td>\n",
       "    </tr>\n",
       "  </tbody>\n",
       "</table>\n",
       "</div>"
      ],
      "text/plain": [
       "   cid  month  spending  transaction\n",
       "0    1      3     52.57           27\n",
       "1    1      4     76.98           24\n",
       "2    1      7     66.42           26\n",
       "3    1      8     54.54           26\n",
       "4    1      9    128.21           27"
      ]
     },
     "execution_count": 47,
     "metadata": {},
     "output_type": "execute_result"
    }
   ],
   "source": [
    "# 2.Gathering the data\n",
    "df=pd.read_csv(\"data.csv\")\n",
    "df.head()"
   ]
  },
  {
   "cell_type": "code",
   "execution_count": 48,
   "metadata": {},
   "outputs": [
    {
     "name": "stdout",
     "output_type": "stream",
     "text": [
      "(74669, 4)\n",
      "--------------------------------------------------------------------------\n",
      "cid              int64\n",
      "month            int64\n",
      "spending       float64\n",
      "transaction      int64\n",
      "dtype: object\n",
      "--------------------------------------------------------------------------\n",
      "                cid         month      spending   transaction\n",
      "count  74669.000000  74669.000000  74669.000000  74669.000000\n",
      "mean    5007.502029      6.502404    106.310297     29.495641\n",
      "std     2883.623913      3.454033     97.689002      9.793271\n",
      "min        1.000000      1.000000     25.920000      2.000000\n",
      "25%     2506.000000      4.000000     56.060000     23.000000\n",
      "50%     5015.000000      6.000000     79.490000     28.000000\n",
      "75%     7502.000000     10.000000    120.890000     34.000000\n",
      "max    10000.000000     12.000000   3512.160000    148.000000\n"
     ]
    }
   ],
   "source": [
    "# 3.Explore the data\n",
    "print(df.shape)\n",
    "print('--------------------------------------------------------------------------')\n",
    "print(df.dtypes)\n",
    "print('--------------------------------------------------------------------------')\n",
    "print(df.describe())\n"
   ]
  },
  {
   "cell_type": "code",
   "execution_count": 49,
   "metadata": {},
   "outputs": [
    {
     "name": "stdout",
     "output_type": "stream",
     "text": [
      "(74669, 4)\n",
      "--------------------------------------------------------------------------\n",
      "cid              int64\n",
      "month            int64\n",
      "spending       float64\n",
      "transaction      int64\n",
      "dtype: object\n",
      "--------------------------------------------------------------------------\n",
      "                cid         month      spending   transaction\n",
      "count  74669.000000  74669.000000  74669.000000  74669.000000\n",
      "mean    5007.502029      6.502404    106.310297     29.495641\n",
      "std     2883.623913      3.454033     97.689002      9.793271\n",
      "min        1.000000      1.000000     25.920000      2.000000\n",
      "25%     2506.000000      4.000000     56.060000     23.000000\n",
      "50%     5015.000000      6.000000     79.490000     28.000000\n",
      "75%     7502.000000     10.000000    120.890000     34.000000\n",
      "max    10000.000000     12.000000   3512.160000    148.000000\n"
     ]
    }
   ],
   "source": [
    "# 4.Check quality\n",
    "df = df.dropna()\n",
    "print(df.shape)\n",
    "print('--------------------------------------------------------------------------')\n",
    "print(df.dtypes)\n",
    "print('--------------------------------------------------------------------------')\n",
    "print(df.describe())"
   ]
  },
  {
   "cell_type": "markdown",
   "metadata": {},
   "source": [
    "#### Summarizing the data\n",
    "\n",
    "We would like you to calculate these values for each customers:\n",
    "1. **avg_spending:** average spending for each customer\n",
    "2. **std_spending:** standart deviation of spending for each customer\n",
    "3. **tot_spending:** total spending for each customer\n",
    "4. **tot_transaction:** total number of transaction for each customer\n",
    "5. **most_spending_month:** the month that each customer has the most spending    \n",
    "6. **most_transaction_month:** the month that each customer has the most transaction\n",
    "7. Print the results"
   ]
  },
  {
   "cell_type": "markdown",
   "metadata": {},
   "source": [
    "The output seen as:\n",
    "\n",
    "|   cid |   avg_spending |   std_spending |   tot_spending |   tot_transaction |   most_spending_month |   most_transaction_month |\n",
    "|------:|---------------:|---------------:|---------------:|------------------:|----------------------:|-------------------------:|\n",
    "|     1 |       102.39   |        86.3929 |         716.73 |               185 |                    11 |                       11 |\n",
    "|     2 |        71.3813 |        48.3853 |         571.05 |               266 |                     1 |                       12 |\n",
    "|     3 |        86.9167 |        50.4738 |         521.5  |               168 |                     9 |                        9 |\n",
    "|     4 |        86.3875 |        54.4722 |         345.55 |               101 |                    12 |                       12 |\n",
    "|     5 |       104.537  |        89.4826 |         627.22 |               169 |                    10 |                        6 |"
   ]
  },
  {
   "cell_type": "code",
   "execution_count": 37,
   "metadata": {},
   "outputs": [],
   "source": [
    "#  Use this and additional cells\n",
    "avg_spending = df.groupby(\"cid\").agg({\"spending\": \"mean\"})\n",
    "std_spending = df.groupby(\"cid\").agg({\"spending\": \"std\"})\n",
    "tot_spending = df.groupby(\"cid\").agg({\"spending\": \"sum\"})\n",
    "tot_transaction = df.groupby(\"cid\").agg({\"transaction\": \"sum\"})\n",
    "most_spending_month = df.loc[df.groupby(\"cid\")[\"spending\"].idxmax()][[\"cid\", \"month\"]].set_index(\"cid\")\n",
    "most_transaction_month = df.loc[df.groupby(\"cid\")[\"transaction\"].idxmax()][[\"cid\", \"month\"]].set_index(\"cid\")\n",
    " "
   ]
  },
  {
   "cell_type": "code",
   "execution_count": 52,
   "metadata": {},
   "outputs": [
    {
     "data": {
      "text/html": [
       "<div>\n",
       "<style scoped>\n",
       "    .dataframe tbody tr th:only-of-type {\n",
       "        vertical-align: middle;\n",
       "    }\n",
       "\n",
       "    .dataframe tbody tr th {\n",
       "        vertical-align: top;\n",
       "    }\n",
       "\n",
       "    .dataframe thead th {\n",
       "        text-align: right;\n",
       "    }\n",
       "</style>\n",
       "<table border=\"1\" class=\"dataframe\">\n",
       "  <thead>\n",
       "    <tr style=\"text-align: right;\">\n",
       "      <th></th>\n",
       "      <th>avg_spending</th>\n",
       "      <th>std_spending</th>\n",
       "      <th>tot_spending</th>\n",
       "      <th>tot_transaction</th>\n",
       "      <th>most_spending_month</th>\n",
       "      <th>most_transaction_month</th>\n",
       "    </tr>\n",
       "    <tr>\n",
       "      <th>cid</th>\n",
       "      <th></th>\n",
       "      <th></th>\n",
       "      <th></th>\n",
       "      <th></th>\n",
       "      <th></th>\n",
       "      <th></th>\n",
       "    </tr>\n",
       "  </thead>\n",
       "  <tbody>\n",
       "    <tr>\n",
       "      <th>1</th>\n",
       "      <td>102.390000</td>\n",
       "      <td>86.392892</td>\n",
       "      <td>716.73</td>\n",
       "      <td>185</td>\n",
       "      <td>11</td>\n",
       "      <td>11</td>\n",
       "    </tr>\n",
       "    <tr>\n",
       "      <th>2</th>\n",
       "      <td>71.381250</td>\n",
       "      <td>48.385250</td>\n",
       "      <td>571.05</td>\n",
       "      <td>266</td>\n",
       "      <td>1</td>\n",
       "      <td>12</td>\n",
       "    </tr>\n",
       "    <tr>\n",
       "      <th>3</th>\n",
       "      <td>86.916667</td>\n",
       "      <td>50.473770</td>\n",
       "      <td>521.50</td>\n",
       "      <td>168</td>\n",
       "      <td>9</td>\n",
       "      <td>9</td>\n",
       "    </tr>\n",
       "    <tr>\n",
       "      <th>4</th>\n",
       "      <td>86.387500</td>\n",
       "      <td>54.472186</td>\n",
       "      <td>345.55</td>\n",
       "      <td>101</td>\n",
       "      <td>12</td>\n",
       "      <td>12</td>\n",
       "    </tr>\n",
       "    <tr>\n",
       "      <th>5</th>\n",
       "      <td>104.536667</td>\n",
       "      <td>89.482588</td>\n",
       "      <td>627.22</td>\n",
       "      <td>169</td>\n",
       "      <td>10</td>\n",
       "      <td>6</td>\n",
       "    </tr>\n",
       "  </tbody>\n",
       "</table>\n",
       "</div>"
      ],
      "text/plain": [
       "     avg_spending  std_spending  tot_spending  tot_transaction  \\\n",
       "cid                                                              \n",
       "1      102.390000     86.392892        716.73              185   \n",
       "2       71.381250     48.385250        571.05              266   \n",
       "3       86.916667     50.473770        521.50              168   \n",
       "4       86.387500     54.472186        345.55              101   \n",
       "5      104.536667     89.482588        627.22              169   \n",
       "\n",
       "     most_spending_month  most_transaction_month  \n",
       "cid                                               \n",
       "1                     11                      11  \n",
       "2                      1                      12  \n",
       "3                      9                       9  \n",
       "4                     12                      12  \n",
       "5                     10                       6  "
      ]
     },
     "execution_count": 52,
     "metadata": {},
     "output_type": "execute_result"
    }
   ],
   "source": [
    "df = pd.concat([avg_spending, std_spending, tot_spending, tot_transaction, most_spending_month, most_transaction_month], axis=1,)\n",
    "df.columns = ['avg_spending', 'std_spending', 'tot_spending', 'tot_transaction', 'most_spending_month', 'most_transaction_month']\n",
    "df.head(5)"
   ]
  },
  {
   "cell_type": "markdown",
   "metadata": {},
   "source": [
    "#### Data Understanding\n",
    "1. Plot the histogram for average spending of costomer\n",
    "2. Calculate mean, mode, median of the distribution (*you should round the values before calculating the mode*)\n",
    "3. Explain the type of the distributon that describes the pattern in the histogram; justify your answer with mean, mode median (*you can answer this question in the comment*)"
   ]
  },
  {
   "cell_type": "code",
   "execution_count": 54,
   "metadata": {},
   "outputs": [
    {
     "data": {
      "image/png": "[encoded data removed]",
      "text/plain": [
       "<Figure size 640x480 with 1 Axes>"
      ]
     },
     "metadata": {},
     "output_type": "display_data"
    }
   ],
   "source": [
    "#1. Plot the histogram for average spending of costomer\n",
    "\n",
    "plt.hist(avg_spending, bins=20, color='blue')\n",
    "plt.title('Histogram of Average Spending')\n",
    "plt.xlabel('Average Spending')\n",
    "plt.ylabel('Count')\n",
    "plt.show()"
   ]
  },
  {
   "cell_type": "code",
   "execution_count": 55,
   "metadata": {},
   "outputs": [
    {
     "data": {
      "text/html": [
       "<div>\n",
       "<style scoped>\n",
       "    .dataframe tbody tr th:only-of-type {\n",
       "        vertical-align: middle;\n",
       "    }\n",
       "\n",
       "    .dataframe tbody tr th {\n",
       "        vertical-align: top;\n",
       "    }\n",
       "\n",
       "    .dataframe thead th {\n",
       "        text-align: right;\n",
       "    }\n",
       "</style>\n",
       "<table border=\"1\" class=\"dataframe\">\n",
       "  <thead>\n",
       "    <tr style=\"text-align: right;\">\n",
       "      <th></th>\n",
       "      <th>count</th>\n",
       "      <th>mean</th>\n",
       "      <th>std</th>\n",
       "      <th>min</th>\n",
       "      <th>25%</th>\n",
       "      <th>50%</th>\n",
       "      <th>75%</th>\n",
       "      <th>max</th>\n",
       "    </tr>\n",
       "  </thead>\n",
       "  <tbody>\n",
       "    <tr>\n",
       "      <th>avg_spending</th>\n",
       "      <td>10000.0</td>\n",
       "      <td>106.286485</td>\n",
       "      <td>36.823102</td>\n",
       "      <td>36.295000</td>\n",
       "      <td>82.407262</td>\n",
       "      <td>98.44500</td>\n",
       "      <td>120.732917</td>\n",
       "      <td>511.844000</td>\n",
       "    </tr>\n",
       "    <tr>\n",
       "      <th>std_spending</th>\n",
       "      <td>9997.0</td>\n",
       "      <td>73.054430</td>\n",
       "      <td>64.632217</td>\n",
       "      <td>1.704127</td>\n",
       "      <td>36.490543</td>\n",
       "      <td>54.82643</td>\n",
       "      <td>86.425623</td>\n",
       "      <td>1213.755447</td>\n",
       "    </tr>\n",
       "    <tr>\n",
       "      <th>tot_spending</th>\n",
       "      <td>10000.0</td>\n",
       "      <td>793.808353</td>\n",
       "      <td>322.106366</td>\n",
       "      <td>72.590000</td>\n",
       "      <td>578.655000</td>\n",
       "      <td>738.43000</td>\n",
       "      <td>948.315000</td>\n",
       "      <td>4083.040000</td>\n",
       "    </tr>\n",
       "    <tr>\n",
       "      <th>tot_transaction</th>\n",
       "      <td>10000.0</td>\n",
       "      <td>220.241000</td>\n",
       "      <td>56.540822</td>\n",
       "      <td>31.000000</td>\n",
       "      <td>181.000000</td>\n",
       "      <td>219.00000</td>\n",
       "      <td>258.000000</td>\n",
       "      <td>452.000000</td>\n",
       "    </tr>\n",
       "    <tr>\n",
       "      <th>most_spending_month</th>\n",
       "      <td>10000.0</td>\n",
       "      <td>6.466400</td>\n",
       "      <td>3.451530</td>\n",
       "      <td>1.000000</td>\n",
       "      <td>3.000000</td>\n",
       "      <td>6.00000</td>\n",
       "      <td>10.000000</td>\n",
       "      <td>12.000000</td>\n",
       "    </tr>\n",
       "    <tr>\n",
       "      <th>most_transaction_month</th>\n",
       "      <td>10000.0</td>\n",
       "      <td>6.393400</td>\n",
       "      <td>3.441514</td>\n",
       "      <td>1.000000</td>\n",
       "      <td>3.000000</td>\n",
       "      <td>6.00000</td>\n",
       "      <td>9.000000</td>\n",
       "      <td>12.000000</td>\n",
       "    </tr>\n",
       "  </tbody>\n",
       "</table>\n",
       "</div>"
      ],
      "text/plain": [
       "                          count        mean         std        min  \\\n",
       "avg_spending            10000.0  106.286485   36.823102  36.295000   \n",
       "std_spending             9997.0   73.054430   64.632217   1.704127   \n",
       "tot_spending            10000.0  793.808353  322.106366  72.590000   \n",
       "tot_transaction         10000.0  220.241000   56.540822  31.000000   \n",
       "most_spending_month     10000.0    6.466400    3.451530   1.000000   \n",
       "most_transaction_month  10000.0    6.393400    3.441514   1.000000   \n",
       "\n",
       "                               25%        50%         75%          max  \n",
       "avg_spending             82.407262   98.44500  120.732917   511.844000  \n",
       "std_spending             36.490543   54.82643   86.425623  1213.755447  \n",
       "tot_spending            578.655000  738.43000  948.315000  4083.040000  \n",
       "tot_transaction         181.000000  219.00000  258.000000   452.000000  \n",
       "most_spending_month       3.000000    6.00000   10.000000    12.000000  \n",
       "most_transaction_month    3.000000    6.00000    9.000000    12.000000  "
      ]
     },
     "execution_count": 55,
     "metadata": {},
     "output_type": "execute_result"
    }
   ],
   "source": [
    "#2. Calculate mean, mode, median of the distribution (you should round the values before calculating the mode)\n",
    "df.describe().T"
   ]
  },
  {
   "cell_type": "code",
   "execution_count": null,
   "metadata": {},
   "outputs": [],
   "source": [
    "#3. Explain the type of the distributon that describes the pattern in the histogram; justify your answer with mean, mode median (you can answer this question in the comment)"
   ]
  },
  {
   "cell_type": "markdown",
   "metadata": {},
   "source": [
    "## Question 2"
   ]
  },
  {
   "cell_type": "markdown",
   "metadata": {},
   "source": [
    "#### Write a function to replace all spaces in a string with '--' using an array \n",
    "Make sure that your function O(n) runtime complexity and do not use built-in replace() function.\n",
    "\n",
    "<b>Example input</b>: \"Mr John Smith, 13\" <br>\n",
    "<b>Example output</b>: \"Mr--John--Smith\" <br>\n",
    "\n",
    "You may assume that the array has sufficient space at the end to hold the additional characters, and you are given the true length of the string with the input. Here \"13\" represents the actual length of the string."
   ]
  },
  {
   "cell_type": "code",
   "execution_count": 20,
   "metadata": {},
   "outputs": [],
   "source": [
    "import re"
   ]
  },
  {
   "cell_type": "code",
   "execution_count": 31,
   "metadata": {},
   "outputs": [
    {
     "name": "stdout",
     "output_type": "stream",
     "text": [
      "Mr--John--Smith--13\n",
      "Woow--Data--Science--17\n"
     ]
    }
   ],
   "source": [
    "input_str1 = 'Mr John Smith, 13'  # expected solution is 'Mr--John--Smith' (Beklenen sonuç)\n",
    "print(space_remover(input_str1))\n",
    "\n",
    "input_str1 = 'Woow Data Science, 17' # expected solution is 'Woow--Data--Science' (Beklenen sonuç)\n",
    "print(space_remover(input_str1))\n"
   ]
  },
  {
   "cell_type": "code",
   "execution_count": 30,
   "metadata": {},
   "outputs": [],
   "source": [
    "#This line of code converts '--' to expressions such as periods, commas. (Bu kod satırı nokta,virgül gibi ifadeleri '--' çevirir.)\n",
    "def space_remover(input_str):    \n",
    "    output_str = re.sub(r'[.,; ]+', '--', input_str)\n",
    "    return output_str"
   ]
  },
  {
   "cell_type": "markdown",
   "metadata": {},
   "source": [
    "## Question 3"
   ]
  },
  {
   "cell_type": "markdown",
   "metadata": {},
   "source": [
    "#### Using regular expression do following operations on **lorem_ipsum_text**:\n",
    "1. Delete all characters if they are not letters (A-z) and spaces \n",
    "2. Find the count of all occurrence of the words that ends with 'us' but not 'llus'\n",
    "3. Replace all 'ae' with 'æ', (*Don't forget 'Aenean => Ænean'*)\n",
    "3. Replace all the vowels following by 'll' if the word does not end with that vowel as:\n",
    "    - a => @ (ex: nullam => null@m, but nulla => nulla)\n",
    "    - e => 3\n",
    "    - i => %\n",
    "    - o => 0\n",
    "    - u => &\n",
    "\n",
    "Print the results"
   ]
  },
  {
   "cell_type": "code",
   "execution_count": null,
   "metadata": {},
   "outputs": [],
   "source": [
    "#We download and install the regex library (Regex kütüphanesini indirip yüklüyoruz)\n",
    "\n",
    "pip install regex"
   ]
  },
  {
   "cell_type": "code",
   "execution_count": 12,
   "metadata": {},
   "outputs": [],
   "source": [
    "#We include the module. (Modülü dahil ediyoruz.)\n",
    "\n",
    "import re\n",
    "\n",
    "text = \"\"\"Lorem ipsum dolor sit amet, consectetur adipiscing elit. Ut sed rhoncus sem, et sagittis tellus. Donec hendrerit sapien ac purus pretium tincidunt. Orci varius natoque penatibus et magnis dis parturient montes, nascetur ridiculus mus. Pellentesque aliquet, lectus eget finibus aliquet, tortor quam semper justo, sed venenatis nunc lectus a arcu. Vivamus egestas rhoncus dolor, vitae sollicitudin urna. Integer eleifend purus eget porta sagittis. Phasellus malesuada ex nibh, a lobortis tellus tempor hendrerit. Integer tincidunt ante et varius semper. Maecenas quis finibus lacus.\n",
    "Sed luctus varius nisi, ac pulvinar erat gravida sit amet. Mauris gravida scelerisque nisi vel sollicitudin. In porta diam nec lorem bibendum semper. Cras ut imperdiet sem, vel bibendum risus. Nulla suscipit enim et efficitur interdum. Mauris consectetur porttitor ipsum. Praesent a tortor quis arcu porttitor ullamcorper ac et diam. Pellentesque rhoncus ultrices facilisis. Pellentesque lectus quam, vestibulum in erat non, venenatis vehicula augue. Praesent at viverra est. Integer libero neque, commodo ut ipsum ac, vulputate pharetra libero. Pellentesque in rhoncus magna. In hac habitasse platea dictumst.\n",
    "Praesent ultrices vel elit vel auctor. Nulla vitae ligula in elit mattis aliquam. Quisque vitae finibus enim. Praesent id maximus mauris. Nunc in pulvinar ligula. Donec condimentum condimentum ipsum aliquet volutpat. Maecenas non porta nunc. Donec risus nulla, pharetra in rhoncus sit amet, efficitur quis urna.\n",
    "Praesent diam ante, ultrices eget libero sit amet, semper auctor metus. Aliquam sit amet vulputate nibh. Suspendisse potenti. Duis dui ligula, consectetur egestas nibh nec, ullamcorper iaculis turpis. Ut volutpat lacus in leo porta, a lobortis diam placerat. Aenean iaculis, leo at semper fringilla, lectus magna rutrum neque, sollicitudin accumsan est felis at purus. Phasellus et scelerisque libero, ac malesuada nulla. Pellentesque maximus eget erat ac consequat. Ut elementum sapien sed leo aliquam, at ultrices elit venenatis. Duis accumsan finibus imperdiet. Vestibulum ante ipsum primis in faucibus orci luctus et ultrices posuere cubilia curae;\n",
    "Nulla augue nunc, pharetra quis tellus sed, egestas luctus mi. Fusce hendrerit sagittis urna eleifend varius. Vestibulum velit magna, aliquam nec tincidunt hendrerit, aliquam non ex. Maecenas ut sem imperdiet, semper metus et, gravida quam. Mauris placerat sed erat sed dapibus. Aliquam a suscipit elit. Fusce non dolor justo. Suspendisse dictum posuere faucibus. Proin pretium ipsum vitae orci sagittis placerat. Nulla hendrerit erat sit amet nunc tristique, quis lacinia enim lobortis. Aenean in pretium augue. Proin posuere purus at nulla ultrices molestie. Morbi et pharetra justo. In vel arcu elit. Nullam at est id odio bibendum iaculis nec dapibus velit.\n",
    "\"\"\""
   ]
  },
  {
   "cell_type": "code",
   "execution_count": 11,
   "metadata": {},
   "outputs": [
    {
     "name": "stdout",
     "output_type": "stream",
     "text": [
      "Lorem ipsum dolor sit amet consectetur adipiscing elit Ut sed rhoncus sem et sagittis tellus Donec hendrerit sapien ac purus pretium tincidunt Orci varius natoque penatibus et magnis dis parturient montes nascetur ridiculus mus Pellentesque aliquet lectus eget finibus aliquet tortor quam semper justo sed venenatis nunc lectus a arcu Vivamus egestas rhoncus dolor vitae sollicitudin urna Integer eleifend purus eget porta sagittis Phasellus malesuada ex nibh a lobortis tellus tempor hendrerit Integer tincidunt ante et varius semper Maecenas quis finibus lacus\n",
      "Sed luctus varius nisi ac pulvinar erat gravida sit amet Mauris gravida scelerisque nisi vel sollicitudin In porta diam nec lorem bibendum semper Cras ut imperdiet sem vel bibendum risus Nulla suscipit enim et efficitur interdum Mauris consectetur porttitor ipsum Praesent a tortor quis arcu porttitor ullamcorper ac et diam Pellentesque rhoncus ultrices facilisis Pellentesque lectus quam vestibulum in erat non venenatis vehicula augue Praesent at viverra est Integer libero neque commodo ut ipsum ac vulputate pharetra libero Pellentesque in rhoncus magna In hac habitasse platea dictumst\n",
      "Praesent ultrices vel elit vel auctor Nulla vitae ligula in elit mattis aliquam Quisque vitae finibus enim Praesent id maximus mauris Nunc in pulvinar ligula Donec condimentum condimentum ipsum aliquet volutpat Maecenas non porta nunc Donec risus nulla pharetra in rhoncus sit amet efficitur quis urna\n",
      "Praesent diam ante ultrices eget libero sit amet semper auctor metus Aliquam sit amet vulputate nibh Suspendisse potenti Duis dui ligula consectetur egestas nibh nec ullamcorper iaculis turpis Ut volutpat lacus in leo porta a lobortis diam placerat Aenean iaculis leo at semper fringilla lectus magna rutrum neque sollicitudin accumsan est felis at purus Phasellus et scelerisque libero ac malesuada nulla Pellentesque maximus eget erat ac consequat Ut elementum sapien sed leo aliquam at ultrices elit venenatis Duis accumsan finibus imperdiet Vestibulum ante ipsum primis in faucibus orci luctus et ultrices posuere cubilia curae\n",
      "Nulla augue nunc pharetra quis tellus sed egestas luctus mi Fusce hendrerit sagittis urna eleifend varius Vestibulum velit magna aliquam nec tincidunt hendrerit aliquam non ex Maecenas ut sem imperdiet semper metus et gravida quam Mauris placerat sed erat sed dapibus Aliquam a suscipit elit Fusce non dolor justo Suspendisse dictum posuere faucibus Proin pretium ipsum vitae orci sagittis placerat Nulla hendrerit erat sit amet nunc tristique quis lacinia enim lobortis Aenean in pretium augue Proin posuere purus at nulla ultrices molestie Morbi et pharetra justo In vel arcu elit Nullam at est id odio bibendum iaculis nec dapibus velit\n",
      "\n"
     ]
    }
   ],
   "source": [
    "#Use regex to remove all characters that are not letters (A-z) or spaces (A-z veya boşul olmayan ifadeleri kaldırma)\n",
    "\n",
    "text = re.sub(r'[^A-Za-z\\s]+', '', text)\n",
    "print(text)\n"
   ]
  },
  {
   "cell_type": "code",
   "execution_count": 13,
   "metadata": {},
   "outputs": [
    {
     "name": "stdout",
     "output_type": "stream",
     "text": [
      "Count of words that end with 'us' but not 'llus': 45\n",
      "Words: ['rhoncus', 'tellus', 'purus', 'varius', 'penatibus', 'ridiculus', 'mus', 'lectus', 'finibus', 'lectus', 'Vivamus', 'rhoncus', 'purus', 'Phasellus', 'tellus', 'varius', 'finibus', 'lacus', 'luctus', 'varius', 'risus', 'rhoncus', 'lectus', 'rhoncus', 'finibus', 'maximus', 'risus', 'rhoncus', 'metus', 'lacus', 'lectus', 'purus', 'Phasellus', 'maximus', 'finibus', 'faucibus', 'luctus', 'tellus', 'luctus', 'varius', 'metus', 'dapibus', 'faucibus', 'purus', 'dapibus']\n"
     ]
    }
   ],
   "source": [
    "\n",
    "# Define the regular expression pattern (İfade modelini tanımlama)\n",
    "\n",
    "pattern = r'\\b(?!llus)\\w+us\\b'\n",
    "\n",
    "# Find all matches of the pattern in the text (Metindeki eşleşmeleri bulma)\n",
    "matches = re.findall(pattern, text)\n",
    "\n",
    "# Count the number of matches\n",
    "count = len(matches)\n",
    "\n",
    "print(\"Count of words that end with 'us' but not 'llus':\", count)\n",
    "print(\"Words:\", matches)"
   ]
  },
  {
   "cell_type": "code",
   "execution_count": 17,
   "metadata": {},
   "outputs": [
    {
     "name": "stdout",
     "output_type": "stream",
     "text": [
      "Lorem ipsum dolor sit amet, consectetur adipiscing elit. Ut sed rhoncus sem, et sagittis tellus. Donec hendrerit sapien ac purus pretium tincidunt. Orci varius natoque penatibus et magnis dis parturient montes, nascetur ridiculus mus. Pellentesque aliquet, lectus eget finibus aliquet, tortor quam semper justo, sed venenatis nunc lectus a arcu. Vivamus egestas rhoncus dolor, vitæ sollicitudin urna. Integer eleifend purus eget porta sagittis. Phasellus malesuada ex nibh, a lobortis tellus tempor hendrerit. Integer tincidunt ante et varius semper. Maecenas quis finibus lacus.\n",
      "Sed luctus varius nisi, ac pulvinar erat gravida sit amet. Mauris gravida scelerisque nisi vel sollicitudin. In porta diam nec lorem bibendum semper. Cras ut imperdiet sem, vel bibendum risus. Nulla suscipit enim et efficitur interdum. Mauris consectetur porttitor ipsum. Praesent a tortor quis arcu porttitor ullamcorper ac et diam. Pellentesque rhoncus ultrices facilisis. Pellentesque lectus quam, vestibulum in erat non, venenatis vehicula augue. Praesent at viverra est. Integer libero neque, commodo ut ipsum ac, vulputate pharetra libero. Pellentesque in rhoncus magna. In hac habitasse platea dictumst.\n",
      "Praesent ultrices vel elit vel auctor. Nulla vitæ ligula in elit mattis aliquam. Quisque vitæ finibus enim. Praesent id maximus mauris. Nunc in pulvinar ligula. Donec condimentum condimentum ipsum aliquet volutpat. Maecenas non porta nunc. Donec risus nulla, pharetra in rhoncus sit amet, efficitur quis urna.\n",
      "Praesent diam ante, ultrices eget libero sit amet, semper auctor metus. Aliquam sit amet vulputate nibh. Suspendisse potenti. Duis dui ligula, consectetur egestas nibh nec, ullamcorper iaculis turpis. Ut volutpat lacus in leo porta, a lobortis diam placerat. ænean iaculis, leo at semper fringilla, lectus magna rutrum neque, sollicitudin accumsan est felis at purus. Phasellus et scelerisque libero, ac malesuada nulla. Pellentesque maximus eget erat ac consequat. Ut elementum sapien sed leo aliquam, at ultrices elit venenatis. Duis accumsan finibus imperdiet. Vestibulum ante ipsum primis in faucibus orci luctus et ultrices posuere cubilia curæ;\n",
      "Nulla augue nunc, pharetra quis tellus sed, egestas luctus mi. Fusce hendrerit sagittis urna eleifend varius. Vestibulum velit magna, aliquam nec tincidunt hendrerit, aliquam non ex. Maecenas ut sem imperdiet, semper metus et, gravida quam. Mauris placerat sed erat sed dapibus. Aliquam a suscipit elit. Fusce non dolor justo. Suspendisse dictum posuere faucibus. Proin pretium ipsum vitæ orci sagittis placerat. Nulla hendrerit erat sit amet nunc tristique, quis lacinia enim lobortis. ænean in pretium augue. Proin posuere purus at nulla ultrices molestie. Morbi et pharetra justo. In vel arcu elit. Nullam at est id odio bibendum iaculis nec dapibus velit.\n",
      "\n"
     ]
    }
   ],
   "source": [
    "\n",
    "# Define the regular expression pattern (Normal ifade modeli tanımlarız)\n",
    "pattern = r'\\bAe|\\bae|\\bae(?=\\w)|(?<=\\w)ae(?=\\W)'\n",
    "\n",
    "# Replace all matches of the pattern in the text with 'æ' (Eşleşmeleri æ ile değiştirir)\n",
    "text = re.sub(pattern, 'æ', text)\n",
    "\n",
    "print(text)\n"
   ]
  },
  {
   "cell_type": "code",
   "execution_count": 19,
   "metadata": {},
   "outputs": [
    {
     "name": "stdout",
     "output_type": "stream",
     "text": [
      "Lorem illllpsum dolor sit allllmet, consectetur alllldipiscing elllllit. Ullllt sed rhoncus sem, ellllt sagittis tellus. Donec hendrerit sapien allllc purus pretium tincidunt. Ollllrci varius natoque penatibus ellllt magnis dis parturient montes, nascetur ridiculus mus. Pellentesque allllliquet, lectus ellllget finibus allllliquet, tortor quam semper justo, sed venenatis nunc lectus a allllrcu. Vivamus ellllgestas rhoncus dolor, vitæ sollicitudin ullllrna. Illllnteger ellllleifend purus ellllget porta sagittis. Phasellus malesuada ellllx nibh, a lobortis tellus tempor hendrerit. Illllnteger tincidunt allllnte ellllt varius semper. Maecenas quis finibus lacus.\n",
      "Sed luctus varius nisi, allllc pulvinar ellllrat gravida sit allllmet. Mauris gravida scelerisque nisi vel sollicitudin. Illlln porta diam nec lorem bibendum semper. Cras ullllt illllmperdiet sem, vel bibendum risus. Nulla suscipit ellllnim ellllt ellllfficitur illllnterdum. Mauris consectetur porttitor illllpsum. Praesent a tortor quis allllrcu porttitor ullllllamcorper allllc ellllt diam. Pellentesque rhoncus ullllltrices facilisis. Pellentesque lectus quam, vestibulum illlln ellllrat non, venenatis vehicula augue. Praesent allllt viverra ellllst. Illllnteger libero neque, commodo ullllt illllpsum allllc, vulputate pharetra libero. Pellentesque illlln rhoncus magna. Illlln hac habitasse platea dictumst.\n",
      "Praesent ullllltrices vel elllllit vel auctor. Nulla vitæ ligula illlln elllllit mattis allllliquam. Quisque vitæ finibus ellllnim. Praesent illlld maximus mauris. Nunc illlln pulvinar ligula. Donec condimentum condimentum illllpsum allllliquet volutpat. Maecenas non porta nunc. Donec risus nulla, pharetra illlln rhoncus sit allllmet, ellllfficitur quis ullllrna.\n",
      "Praesent diam allllnte, ullllltrices ellllget libero sit allllmet, semper auctor metus. Allllliquam sit allllmet vulputate nibh. Suspendisse potenti. Duis dui ligula, consectetur ellllgestas nibh nec, ullllllamcorper iaculis turpis. Ullllt volutpat lacus illlln leo porta, a lobortis diam placerat. ænean iaculis, leo allllt semper fringilla, lectus magna rutrum neque, sollicitudin allllccumsan ellllst felis allllt purus. Phasellus ellllt scelerisque libero, allllc malesuada nulla. Pellentesque maximus ellllget ellllrat allllc consequat. Ullllt elllllementum sapien sed leo allllliquam, allllt ullllltrices elllllit venenatis. Duis allllccumsan finibus illllmperdiet. Vestibulum allllnte illllpsum primis illlln faucibus ollllrci luctus ellllt ullllltrices posuere cubilia curæ;\n",
      "Nulla augue nunc, pharetra quis tellus sed, ellllgestas luctus mi. Fusce hendrerit sagittis ullllrna ellllleifend varius. Vestibulum velit magna, allllliquam nec tincidunt hendrerit, allllliquam non ellllx. Maecenas ullllt sem illllmperdiet, semper metus ellllt, gravida quam. Mauris placerat sed ellllrat sed dapibus. Allllliquam a suscipit elllllit. Fusce non dolor justo. Suspendisse dictum posuere faucibus. Proin pretium illllpsum vitæ ollllrci sagittis placerat. Nulla hendrerit ellllrat sit allllmet nunc tristique, quis lacinia ellllnim lobortis. ænean illlln pretium augue. Proin posuere purus allllt nulla ullllltrices molestie. Morbi ellllt pharetra justo. Illlln vel allllrcu elllllit. Nullam allllt ellllst illlld olllldio bibendum iaculis nec dapibus velit.\n",
      "\n"
     ]
    }
   ],
   "source": [
    "#Define the regular expression pattern (Normal ifade modeli tanımlarız)\n",
    "pattern = r'\\b([aeiouAEIOU](?=[^aeiouAEIOU\\s]))'\n",
    "\n",
    "#Define the replacement function (Değiştirme işlemi tanımladık)\n",
    "def replace(match):\n",
    "    return match.group(0) + 'll'\n",
    "\n",
    "# Replace all matches of the pattern in the text with the result of the replacement function (Metinde ki tüm kalıbın işlevlerini sonuç ile değiştirme)\n",
    "text = re.sub(pattern, replace, text)\n",
    "\n",
    "print(text)\n",
    "\n"
   ]
  },
  {
   "cell_type": "markdown",
   "metadata": {},
   "source": [
    "## Question 4"
   ]
  },
  {
   "cell_type": "markdown",
   "metadata": {},
   "source": [
    "You should write your code in **SQL programming language**. Don't forgot that you can not run your code in this notebook."
   ]
  },
  {
   "cell_type": "markdown",
   "metadata": {},
   "source": [
    "Consider the \"Employee\" table below:"
   ]
  },
  {
   "cell_type": "markdown",
   "metadata": {},
   "source": [
    "| Emp_Id  | Emp_name  | Salary  | Manager_Id  |\n",
    "|---|---|---|---|\n",
    "| 10 | Anil  | 50000  |  18 |\n",
    "| 11 | Vikas  | 75000  |   16 |\n",
    "| 12 | Nisha | 40000 |  18 |\n",
    "| 13 | Nidhi  | 60000 | 17  |\n",
    "| 14 | Priya  | 80000 |  18 |\n",
    "| 15 | Mohit |  45000 |  18 |\n",
    "| 16 | Rajesh  | 90000 | -  |\n",
    "| 17 | Raman  | 55000 | 16  |\n",
    "| 18 | Santosh  | 65000 |  17 |"
   ]
  },
  {
   "cell_type": "markdown",
   "metadata": {},
   "source": [
    "Write a query to generate below output:"
   ]
  },
  {
   "cell_type": "markdown",
   "metadata": {},
   "source": [
    "| Manager_Id  | Manager  | Average_Salary_Under_Manager  |\n",
    "|---|---|---|\n",
    "| 16 | Rajesh  | 65000  |\n",
    "| 17 | Raman  | 62500  |\n",
    "| 18 | Santosh | 53750 |"
   ]
  },
  {
   "cell_type": "code",
   "execution_count": 26,
   "metadata": {
    "vscode": {
     "languageId": "sql"
    }
   },
   "outputs": [
    {
     "ename": "IndentationError",
     "evalue": "unexpected indent (450250903.py, line 2)",
     "output_type": "error",
     "traceback": [
      "\u001b[1;36m  Cell \u001b[1;32mIn[26], line 2\u001b[1;36m\u001b[0m\n\u001b[1;33m    Manager_Id,\u001b[0m\n\u001b[1;37m    ^\u001b[0m\n\u001b[1;31mIndentationError\u001b[0m\u001b[1;31m:\u001b[0m unexpected indent\n"
     ]
    }
   ],
   "source": [
    "SELECT \n",
    "  Manager_Id, \n",
    "  Emp_Name as Manager,\n",
    "  AVG(Salary) AS Avg_Salary_Under_Manager\n",
    "FROM Employee\n",
    "WHERE Manager_Id IS NOT NULL \n",
    "GROUP BY Manager_Id"
   ]
  },
  {
   "cell_type": "markdown",
   "metadata": {},
   "source": [
    "##  Thank you.."
   ]
  }
 ],
 "metadata": {
  "environment": {
   "name": "tf2-gpu.2-1.m46",
   "type": "gcloud",
   "uri": "gcr.io/deeplearning-platform-release/tf2-gpu.2-1:m46"
  },
  "kernelspec": {
   "display_name": "Python 3 (ipykernel)",
   "language": "python",
   "name": "python3"
  },
  "language_info": {
   "codemirror_mode": {
    "name": "ipython",
    "version": 3
   },
   "file_extension": ".py",
   "mimetype": "text/x-python",
   "name": "python",
   "nbconvert_exporter": "python",
   "pygments_lexer": "ipython3",
   "version": "3.11.2"
  }
 },
 "nbformat": 4,
 "nbformat_minor": 4
}
